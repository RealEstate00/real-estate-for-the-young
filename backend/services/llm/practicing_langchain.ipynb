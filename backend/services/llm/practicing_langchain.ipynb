{
 "cells": [
  {
   "cell_type": "code",
   "execution_count": 21,
   "id": "97b73c0e",
   "metadata": {},
   "outputs": [],
   "source": [
    "# csv문서 기반 QA\n",
    "from langchain_text_splitters import RecursiveCharacterTextSplitter\n",
    "from langchain_community.document_loaders import CSVLoader\n",
    "from langchain_community.embeddings import HuggingFaceEmbeddings\n",
    "from langchain_community.vectorstores import Chroma\n",
    "from langchain_core.runnables import RunnableLambda\n",
    "from langchain_core.output_parsers import StrOutputParser\n",
    "from langchain_core.runnables import RunnablePassthrough\n",
    "from langchain_core.prompts import ChatPromptTemplate\n",
    "from langchain_groq import ChatGroq "
   ]
  },
  {
   "cell_type": "code",
   "execution_count": 22,
   "id": "b41e4899",
   "metadata": {},
   "outputs": [],
   "source": [
    "# 1. 데이터 로드\n",
    "from pathlib import Path\n",
    "file_path = Path(\"backend\") / \"data\" / \"raw\" / \"for_vectorDB\" / \"housing_vector_data.csv\"\n",
    "loader = CSVLoader(file_path=str(file_path), encoding='utf-8-sig')"
   ]
  },
  {
   "cell_type": "code",
   "execution_count": 23,
   "id": "6e766695",
   "metadata": {},
   "outputs": [
    {
     "data": {
      "text/plain": [
       "Document(metadata={'source': 'backend\\\\data\\\\raw\\\\for_vectorDB\\\\housing_vector_data.csv', 'row': 0}, page_content='주택명: 오늘공동체주택\\n지번주소: 서울특별시 도봉구 도봉동 351-2\\n도로명주소: 서울특별시 도봉구 도봉로191길 80 (도봉동)\\n시군구: 도봉구\\n동명: 도봉동\\n태그: 테마:인증통과 육아형 취미형, 지하철:도봉산역 도봉산역, 자격요건:제한없음, 마트:세븐일레븐 도봉산길점, 병원:부부약국, 학교:도봉초등학교, 시설:김근태기념도서관, 카페:유영정원')"
      ]
     },
     "execution_count": 23,
     "metadata": {},
     "output_type": "execute_result"
    }
   ],
   "source": [
    "data = loader.load()\n",
    "data[0]"
   ]
  },
  {
   "cell_type": "code",
   "execution_count": 24,
   "id": "0d01ba99",
   "metadata": {},
   "outputs": [
    {
     "data": {
      "text/plain": [
       "Document(metadata={'source': 'backend\\\\data\\\\raw\\\\for_vectorDB\\\\housing_vector_data.csv', 'row': 10}, page_content='주택명: 더클래식하우스\\n지번주소: 서울특별시 서대문구 연희동 703-15 더클래식 하우스\\n도로명주소: 서울특별시 서대문구 홍연2길 16 (연희동, 더클래식 하우스)\\n시군구: 서대문구\\n동명: 연희동\\n태그: 테마:인증통과 예술형, 지하철:홍대입구역, 자격요건:제한없음, 마트:GS/CU/ 홈마트, 병원:세브란스/ 동신병원, 학교:홍대 연세대 명지대 서연중 연희초, 시설:서대문구청/ 공원, 카페:더클래식/ 본솔')"
      ]
     },
     "execution_count": 24,
     "metadata": {},
     "output_type": "execute_result"
    }
   ],
   "source": [
    "data[10]"
   ]
  },
  {
   "cell_type": "code",
   "execution_count": 25,
   "id": "828236c0",
   "metadata": {},
   "outputs": [
    {
     "name": "stdout",
     "output_type": "stream",
     "text": [
      "주택명: 오늘공동체주택\n",
      "지번주소: 서울특별시 도봉구 도봉동 351-2\n",
      "도로명주소: 서울특별시 도봉구 도봉로191길 80 (도봉동)\n",
      "시군구: 도봉구\n",
      "동명: 도봉동\n",
      "태그: 테마:인증통과 육아형 취미형, 지하철:도봉산역 도봉산역, 자격요건:제한없음, 마트:세븐일레븐 도봉산길점, 병원:부부약국, 학교:도봉초등학교, 시설:김근태기념도서관, 카페:유영정원\n"
     ]
    }
   ],
   "source": [
    "print(data[0].page_content)"
   ]
  },
  {
   "cell_type": "code",
   "execution_count": 26,
   "id": "9d8a3c29",
   "metadata": {},
   "outputs": [
    {
     "name": "stdout",
     "output_type": "stream",
     "text": [
      "분할된 청크의수: 130\n"
     ]
    }
   ],
   "source": [
    "# 2. 데이터 분할\n",
    "# 문서를 특정 기준(청크)로 분할\n",
    "# RecursiveCharacterTextSplitter : 다양한 문자로 재귀적으로 분할하여 효과적인 문자를 찾습니다.\n",
    "text_splitter = RecursiveCharacterTextSplitter(\n",
    "    chunk_size=1000, \n",
    "    chunk_overlap=50,\n",
    "    length_function=len,\n",
    "    separators=[\"\\n\\n\", \"\\n\", \" \", \"\"]\n",
    ")\n",
    "\n",
    "split_documents = text_splitter.split_documents(data)\n",
    "print(f\"분할된 청크의수: {len(split_documents)}\")"
   ]
  },
  {
   "cell_type": "code",
   "execution_count": 27,
   "id": "48c58d42",
   "metadata": {},
   "outputs": [
    {
     "name": "stdout",
     "output_type": "stream",
     "text": [
      "===== PAGE 2 =====\n",
      "page_content='주택명: 연희동 청년연구자 주택 애스트리 23\n",
      "지번주소: 서울특별시 서대문구 연희동 48-66 *연희23\n",
      "도로명주소: 서울특별시 서대문구 연희로18길 36 (연희동, *연희23)\n",
      "시군구: 서대문구\n",
      "동명: 연희동\n",
      "태그: 테마:인증통과 청년형, 자격요건:제한없음' metadata={'source': 'backend\\\\data\\\\raw\\\\for_vectorDB\\\\housing_vector_data.csv', 'row': 2}\n",
      "===== PAGE 3 =====\n",
      "page_content='주택명: 비투코하우징홍은\n",
      "지번주소: 서울특별시 서대문구 홍은동 414-14\n",
      "도로명주소: 서울특별시 서대문구 증가로4길 57 (홍은동)\n",
      "시군구: 서대문구\n",
      "동명: 홍은동\n",
      "태그: 테마:인증통과 청년형 취미형, 지하철:홍제역, 자격요건:제한없음, 마트:CU., 병원:세브란스병원, 학교:명지대학교' metadata={'source': 'backend\\\\data\\\\raw\\\\for_vectorDB\\\\housing_vector_data.csv', 'row': 3}\n"
     ]
    }
   ],
   "source": [
    "print(\"===== PAGE 2 =====\")\n",
    "print(split_documents[2])\n",
    "print(\"===== PAGE 3 =====\")\n",
    "print(split_documents[3])"
   ]
  },
  {
   "cell_type": "code",
   "execution_count": 28,
   "id": "f58656e8",
   "metadata": {},
   "outputs": [
    {
     "name": "stdout",
     "output_type": "stream",
     "text": [
      "🔄 한국어 임베딩 모델 로딩 중... (시간이 걸릴 수 있습니다)\n"
     ]
    }
   ],
   "source": [
    "# 3. 임베딩 생성\n",
    "# GroqEmbeddings는 없음. 다른 임베딩 사용하여야 함\n",
    "\n",
    "# 한국어 임베딩 모델 사용\n",
    "embeddings = HuggingFaceEmbeddings(\n",
    "    model_name=\"jhgan/ko-sbert-nli\",  # 한국어 특화 모델\n",
    "    model_kwargs={'device': 'cpu'},   # CPU 사용 (GPU 없어도 됨)\n",
    "    encode_kwargs={'normalize_embeddings': True}  # 정규화-코사인 유사도 계산 최적화, 백터크기차이 최소화, 검색 속도 향상\n",
    ")\n",
    "\n",
    "print(\"🔄 한국어 임베딩 모델 로딩 중... (시간이 걸릴 수 있습니다)\")"
   ]
  },
  {
   "cell_type": "code",
   "execution_count": 29,
   "id": "6c3a9a2d",
   "metadata": {},
   "outputs": [],
   "source": [
    "# 4. DB생성 및 저장\n",
    "vectorstore = Chroma.from_documents(\n",
    "    documents=split_documents,\n",
    "    embedding=embeddings,\n",
    "    persist_directory=\"practicing_vectorstore\"\n",
    ")"
   ]
  },
  {
   "cell_type": "markdown",
   "id": "bb35c238",
   "metadata": {},
   "source": [
    "## 2. RAG 수행"
   ]
  },
  {
   "cell_type": "code",
   "execution_count": 31,
   "id": "1b893632",
   "metadata": {},
   "outputs": [
    {
     "name": "stdout",
     "output_type": "stream",
     "text": [
      "주택명: 코이노니아 스테이\n",
      "지번주소: 서울특별시 강서구 내발산동 681-1 코이노니아 스테이\n",
      "도로명주소: 서울특별시 강서구 강서로47길 60 (내발산동, 코이노니아 스테이)\n",
      "시군구: 강서구\n",
      "동명: 내발산동\n",
      "태그: 테마:인증통과 청년형 신혼형, 지하철:우장산역 마곡역 발산역, 자격요건:제한없음, 마트:CU 세븐일레븐 등 다수, 병원:이대서울병원 미즈메디병원 기타(의료특구) 다수, 학교:명덕고 명덕외고 덕원여고 덕원예고 화곡고 등 다수, 시설:서울시립도서관(예정) 수명산작은도서관, 카페:스타벅스 이디아 등 다수\n"
     ]
    },
    {
     "data": {
      "text/plain": [
       "(5, None)"
      ]
     },
     "execution_count": 31,
     "metadata": {},
     "output_type": "execute_result"
    }
   ],
   "source": [
    "# 5. retriever 생성\n",
    "\n",
    "# 문서 검색 함수\n",
    "def get_documents(query):\n",
    "    if \"추천\" in query or \"어떤\" in query:\n",
    "        # MMR로 다양한 옵션 제공\n",
    "        retriever = vectorstore.as_retriever(\n",
    "            search_type=\"mmr\",\n",
    "            search_kwargs={\n",
    "                \"k\": 5, # 검색 결과 상위 5개 반환\n",
    "                \"fetch_k\": 15, # MMR 알고리즘이 고려할 후보 수 \n",
    "                \"lambda_mult\": 0.9} # 유사성90% + 다양성10% 비율\n",
    "        )\n",
    "    else:\n",
    "        # Similarity로 정확한 매칭\n",
    "        retriever = vectorstore.as_retriever(search_kwargs={\"k\": 5})\n",
    "    \n",
    "    return retriever.invoke(query)\n",
    "\n",
    "retriever_runnable = RunnableLambda(get_documents)\n",
    "\n",
    "\n",
    "# 테스트: 검색기에 쿼리를 날려 검색된 chunk를 반환\n",
    "result = get_documents(\"강서구\")\n",
    "\n",
    "# 검색된 결과를 출력\n",
    "len(result), print(result[0].page_content)"
   ]
  },
  {
   "cell_type": "code",
   "execution_count": 32,
   "id": "084686a6",
   "metadata": {},
   "outputs": [
    {
     "name": "stdout",
     "output_type": "stream",
     "text": [
      "[SystemMessage(content='당신은 청년주택 추천 전문가입니다.', additional_kwargs={}, response_metadata={}), HumanMessage(content='사용자 질문: 강남 청년주택\\n검색 결과: 검색결과...\\n위 정보를 바탕으로 답변해주세요.', additional_kwargs={}, response_metadata={})]\n"
     ]
    }
   ],
   "source": [
    "# prompt 템플릿 생성\n",
    "prompt = ChatPromptTemplate.from_messages([\n",
    "    (\"system\", \"당신은 청년주택 추천 전문가입니다.\"),\n",
    "    (\"human\", \"사용자 질문: {query}\\n검색 결과: {context}\\n위 정보를 바탕으로 답변해주세요.\")\n",
    "])\n",
    "\n",
    "# 결과: 메시지 객체들의 리스트\n",
    "messages = prompt.format_messages(query=\"강남 청년주택\", context=\"검색결과...\")\n",
    "print(messages)"
   ]
  },
  {
   "cell_type": "code",
   "execution_count": 33,
   "id": "0af326d9",
   "metadata": {},
   "outputs": [],
   "source": [
    "# 7. 모델 생성\n",
    "import os\n",
    "from dotenv import load_dotenv\n",
    "load_dotenv()\n",
    "\n",
    "llm = ChatGroq(model_name=\"gemma2-9b-it\", api_key=os.getenv(\"GROQ_API_KEY\"), temperature=0.7)"
   ]
  },
  {
   "cell_type": "code",
   "execution_count": 35,
   "id": "1e43c306",
   "metadata": {},
   "outputs": [],
   "source": [
    "# 8. 체인 생성\n",
    "chain = (\n",
    "    {\"context\": retriever_runnable, \"query\": RunnablePassthrough()} # 입력구조정의\n",
    "    # retriever_runnable의 실행결과를 context에 전달하고 query는 사용자의 질문을 전달\n",
    "    | prompt\n",
    "    | llm\n",
    "    | StrOutputParser() # 출력 파싱\n",
    ")\n",
    "\n"
   ]
  },
  {
   "cell_type": "markdown",
   "id": "c0b01f17",
   "metadata": {},
   "source": [
    "## 체인 실행"
   ]
  },
  {
   "cell_type": "code",
   "execution_count": null,
   "id": "478324ce",
   "metadata": {},
   "outputs": [
    {
     "name": "stdout",
     "output_type": "stream",
     "text": [
      "=== 일반 체인 실행 ===\n",
      "강서구 주택을 찾으시는군요! \n",
      "\n",
      "검색 결과, **'코이노니아 스테이'**라는 주택을 추천드립니다. \n",
      "\n",
      "* **강서구 내발산동**에 위치해 있어 강서구에서의 생활이 편리하겠죠? \n",
      "* **'테마:인증통과 청년형 신혼형'**으로  청년층에게 특화된 주택입니다.\n",
      "* **'지하철:우장산역 마곡역 발산역'** 에 가까우므로 교통 접근성 또한 좋습니다. \n",
      "\n",
      "다른 정보들이 필요하시면 언제든지 물어보세요! 😊  \n",
      "\n",
      "\n",
      "\n",
      "\n",
      "=== 스트리밍 체인 실행 ===\n",
      "강서구 주택을 찾으시는군요! 검색결과에 **코이노니아 스테이**라는 주택이 나왔습니다. \n",
      "\n",
      "**코이노니아 스테이**는 강서구 내발산동에 위치하고 있으며, 다음과 같은 특징이 있습니다.\n",
      "\n",
      "* **테마:** 인증통과 청년형 신혼형 \n",
      "* **교통:** 지하철 우장산역, 마곡역, 발산역 가까이\n",
      "* **편의시설:** CU, 세븐일레븐 등 다수의 마트, 이대서울병원, 미즈메디병원 등 다수의 병원, 명덕고, 명덕외고, 덕원여고, 덕원예고, 화곡고 등 다수의 학교, 서울시립도서관(예정), 수명산작은도서관, 스타벅스, 이디아 등 다수의 카페가 인근에 위치해있습니다.\n",
      "* **자격요건:** 제한없음\n",
      "\n",
      "좀 더 자세한 정보를 원하신다면, 주택명을 검색해보세요. \n",
      "\n",
      "\n"
     ]
    }
   ],
   "source": [
    "import time\n",
    "\n",
    "query = \"강서구 주택 추천해줘\"\n",
    "\n",
    "# 일반 실행\n",
    "print(\"=== 일반 체인 실행 ===\")\n",
    "response = chain.invoke(query)\n",
    "print(response)\n",
    "\n",
    "# 스트리밍 실행 (LLM 응답을 실시간으로 출력, 속도 조절)\n",
    "print(\"\\n=== 스트리밍 체인 실행 ===\")\n",
    "for chunk in chain.stream(query):\n",
    "    if chunk:  # chunk가 비어있지 않은 경우만\n",
    "        print(chunk, end=\"\", flush=True)\n",
    "        time.sleep(0.03)  # 0.03초 지연으로 출력 속도 조절"
   ]
  },
  {
   "cell_type": "code",
   "execution_count": null,
   "id": "f3498868",
   "metadata": {},
   "outputs": [],
   "source": []
  }
 ],
 "metadata": {
  "kernelspec": {
   "display_name": ".venv",
   "language": "python",
   "name": "python3"
  },
  "language_info": {
   "codemirror_mode": {
    "name": "ipython",
    "version": 3
   },
   "file_extension": ".py",
   "mimetype": "text/x-python",
   "name": "python",
   "nbconvert_exporter": "python",
   "pygments_lexer": "ipython3",
   "version": "3.12.11"
  }
 },
 "nbformat": 4,
 "nbformat_minor": 5
}
